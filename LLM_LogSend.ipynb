{
  "nbformat": 4,
  "nbformat_minor": 0,
  "metadata": {
    "colab": {
      "provenance": [],
      "authorship_tag": "ABX9TyNSGL5eS1yyTZcXkZ54R7+J",
      "include_colab_link": true
    },
    "kernelspec": {
      "name": "python3",
      "display_name": "Python 3"
    },
    "language_info": {
      "name": "python"
    }
  },
  "cells": [
    {
      "cell_type": "markdown",
      "metadata": {
        "id": "view-in-github",
        "colab_type": "text"
      },
      "source": [
        "<a href=\"https://colab.research.google.com/github/Saaaaangmin/LLM/blob/main/LLM_LogSend.ipynb\" target=\"_parent\"><img src=\"https://colab.research.google.com/assets/colab-badge.svg\" alt=\"Open In Colab\"/></a>"
      ]
    },
    {
      "cell_type": "code",
      "source": [
        "# LLM_LogSend.py\n",
        "from fastapi import APIRouter, HTTPException\n",
        "from pydantic import BaseModel\n",
        "import smtplib\n",
        "from email.mime.multipart import MIMEMultipart\n",
        "from email.mime.text import MIMEText\n",
        "from email.mime.base import MIMEBase\n",
        "from email import encoders\n",
        "import os\n",
        "import datetime\n",
        "\n",
        "router = APIRouter()\n",
        "\n",
        "MY_ACCOUNT = \"osm9357@gmail.com\"\n",
        "MY_PASSWORD = \"opbg ucrq hlgg nmcm\"\n",
        "TO_MAIL = \"chlrkd0103@naver.com\"\n",
        "SMTP_SERVER = \"smtp.gmail.com\"\n",
        "SMTP_PORT = 465\n",
        "\n",
        "class LogRequest(BaseModel):\n",
        "    log_date: str\n",
        "\n",
        "def send_email(log_file_path):\n",
        "    msg = MIMEMultipart()\n",
        "    msg[\"Subject\"] = \"PosToCat 로그 파일입니다.\"\n",
        "    msg[\"From\"] = MY_ACCOUNT\n",
        "    msg[\"To\"] = TO_MAIL\n",
        "\n",
        "    content = \"안녕하세요.\\nPosToCat Log파일을 전달드립니다.\\n감사합니다.\"\n",
        "    msg.attach(MIMEText(content, \"plain\"))\n",
        "\n",
        "    with open(log_file_path, 'rb') as file:\n",
        "        part = MIMEBase('application', 'octet-stream')\n",
        "        part.set_payload(file.read())\n",
        "        encoders.encode_base64(part)\n",
        "        part.add_header('Content-Disposition', f'attachment; filename={os.path.basename(log_file_path)}')\n",
        "        msg.attach(part)\n",
        "\n",
        "    with smtplib.SMTP_SSL(SMTP_SERVER, SMTP_PORT) as smtp:\n",
        "        smtp.login(MY_ACCOUNT, MY_PASSWORD)\n",
        "        smtp.sendmail(MY_ACCOUNT, TO_MAIL, msg.as_string())\n",
        "\n",
        "    return True\n",
        "\n",
        "@router.post(\"/send-log\")\n",
        "async def send_log(request: LogRequest):\n",
        "    log_date = request.log_date\n",
        "\n",
        "    try:\n",
        "        datetime.datetime.strptime(log_date, \"%Y%m%d\")\n",
        "    except ValueError:\n",
        "        raise HTTPException(status_code=400, detail=\"유효하지 않은 날짜 형식입니다. (YYYYMMDD 형식이어야 합니다.)\")\n",
        "\n",
        "    log_file_path = f\"C:/NICElog/{log_date}.log\"\n",
        "\n",
        "    if not os.path.exists(log_file_path):\n",
        "        raise HTTPException(status_code=404, detail=f\"파일 '{log_file_path}'을 찾을 수 없습니다.\")\n",
        "\n",
        "    if send_email(log_file_path):\n",
        "        return {\"success\": True, \"message\": \"로그 파일이 성공적으로 전송되었습니다.\"}\n",
        "    else:\n",
        "        raise HTTPException(status_code=500, detail=\"로그 파일 전송 중 오류가 발생했습니다.\")"
      ],
      "metadata": {
        "id": "0ZfrS57raZam"
      },
      "execution_count": null,
      "outputs": []
    }
  ]
}