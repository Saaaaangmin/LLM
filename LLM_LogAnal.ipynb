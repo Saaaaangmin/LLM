{
  "nbformat": 4,
  "nbformat_minor": 0,
  "metadata": {
    "colab": {
      "provenance": [],
      "authorship_tag": "ABX9TyPaIQ3xrmhA9EOQBu/GlT26",
      "include_colab_link": true
    },
    "kernelspec": {
      "name": "python3",
      "display_name": "Python 3"
    },
    "language_info": {
      "name": "python"
    }
  },
  "cells": [
    {
      "cell_type": "markdown",
      "metadata": {
        "id": "view-in-github",
        "colab_type": "text"
      },
      "source": [
        "<a href=\"https://colab.research.google.com/github/Saaaaangmin/LLM/blob/main/LLM_LogAnal.ipynb\" target=\"_parent\"><img src=\"https://colab.research.google.com/assets/colab-badge.svg\" alt=\"Open In Colab\"/></a>"
      ]
    },
    {
      "cell_type": "code",
      "execution_count": 1,
      "metadata": {
        "id": "cPsJwo9clRAR"
      },
      "outputs": [],
      "source": [
        "import re\n",
        "\n",
        "# 로그 한 줄을 나타내는 정규 표현식\n",
        "log_pattern = re.compile(\n",
        "    r\"^\\[(?P<발생시간>\\d{8} \\d{2}:\\d{2}:\\d{2}(?: \\d{3})?)\\] \"  # 발생 시간\n",
        "    r\"\\[(?P<Port>\\d{6})\\] \"                                # Com Port\n",
        "    r\"\\[(?P<유형>[^\\]]+)\\] \"                                # 유형 또는 함수명\n",
        "    r\"\\[(?P<에러메시지>.*)\\]$\"                               # 메시지\n",
        ")\n",
        "\n",
        "# 에러 메시지 매핑 (에러 키워드와 설명을 연결)\n",
        "error_descriptions = {\n",
        "    \"-1 port open error!\": \"-1 Port open error = 시리얼의 Com Port가 오픈되지 않은 상태로, 케이블 상태 및 COM Port/Baudrate 값이 올바른지 확인이 필요합니다.\",\n",
        "    \"-3 Ack error!\": \"-3 Ack Error = 시리얼 데이터 ACK 수신 오류이므로, 시리얼 연동에 문제가 없는지 확인이 필요합니다.\",\n",
        "    \"-4 lrc, cancel!\": \"-4 lrc, cancel = 시리얼 통신 중 LRC 체크 에러가 발생하여 응답 데이터를 수신하지 못한 상황으로, 시리얼 통신이 정상적으로 되고 있는지 확인이 필요합니다.\",\n",
        "    \"Timeout\": \"Timeout Error = 응답 시간이 초과되었습니다. 연결 상태를 확인하세요.\",\n",
        "}"
      ]
    },
    {
      "cell_type": "code",
      "source": [
        "# 추적할 함수명 목록\n",
        "function_names = [\"ReqToCat\", \"ReqStop\", \"SetBmpFile\", \"SetLogDir\", \"GetDecSignData\", \"GetDllVer\"]\n",
        "\n",
        "def parse_log_line(line):\n",
        "    \"\"\"로그의 한 줄을 분석하여 정보를 추출\"\"\"\n",
        "    match = log_pattern.match(line)\n",
        "    if match:\n",
        "        return match.groupdict()  # dictionary 형태로 반환\n",
        "    else:\n",
        "        return None\n",
        "\n",
        "def analyze_log_file(file_path):\n",
        "    \"\"\"파일의 로그를 한 줄씩 읽어 분석하고 ERROR 메시지를 수집\"\"\"\n",
        "    error_logs = []  # ERROR 메시지를 저장할 리스트\n",
        "    last_function_name = \"Unknown\"  # 직전 줄의 함수명을 저장\n",
        "\n",
        "    try:\n",
        "        with open(file_path, 'r', encoding='cp949') as file:\n",
        "            for line in file:\n",
        "                parsed_line = parse_log_line(line.strip())\n",
        "\n",
        "                if parsed_line:\n",
        "                    # function_names 목록에 있는 함수명이 감지될 때 업데이트\n",
        "                    if parsed_line['유형'].strip() in function_names:\n",
        "                        last_function_name = parsed_line['유형'].strip()\n",
        "\n",
        "                    # ERROR 메시지를 찾을 경우\n",
        "                    if \"ERROR\" in parsed_line['유형']:\n",
        "                        # 에러 메시지에 설명 추가\n",
        "                        error_message = parsed_line['에러메시지']\n",
        "                        detailed_message = error_descriptions.get(error_message, error_message)\n",
        "\n",
        "                        # 딕셔너리 형태로 필요한 항목 저장\n",
        "                        error_logs.append({\n",
        "                            \"발생시간\": parsed_line['발생시간'],\n",
        "                            \"Port\": parsed_line['Port'],\n",
        "                            \"함수명\": last_function_name,  # 추적된 함수명 사용\n",
        "                            \"에러메시지\": detailed_message\n",
        "                        })\n",
        "\n",
        "        # 수집된 ERROR 메시지 출력\n",
        "        print(\"ERROR 메시지 수집 결과:\")\n",
        "        for error in error_logs:\n",
        "            print(f\"발생시간: {error['발생시간']}\")\n",
        "            print(f\"Port: {error['Port']}\")\n",
        "            print(f\"함수명: {error['함수명']}\")\n",
        "            print(f\"에러메시지: {error['에러메시지']}\")\n",
        "            print('-' * 200)  # 구분선\n",
        "    except FileNotFoundError:\n",
        "        print(f\"파일을 찾을 수 없습니다: {file_path}\")\n",
        "    except PermissionError:\n",
        "        print(f\"파일에 접근할 권한이 없습니다: {file_path}\")\n",
        "    except UnicodeDecodeError as e:\n",
        "        print(f\"파일을 읽는 중 인코딩 오류가 발생했습니다: {e}\")\n",
        "    except Exception as e:\n",
        "        print(f\"예상치 못한 오류가 발생했습니다: {e}\")\n",
        "\n",
        "# 테스트 실행 (로그 파일 경로를 지정)\n",
        "log_file_path = r'C:\\NICElog\\20240822.log'\n",
        "analyze_log_file(log_file_path)"
      ],
      "metadata": {
        "colab": {
          "base_uri": "https://localhost:8080/"
        },
        "id": "xGUX41eelVbh",
        "outputId": "d777a9cf-7b96-4d96-d043-f5aa95cb3b21"
      },
      "execution_count": 2,
      "outputs": [
        {
          "output_type": "stream",
          "name": "stdout",
          "text": [
            "파일을 찾을 수 없습니다: C:\\NICElog\\20240822.log\n"
          ]
        }
      ]
    }
  ]
}