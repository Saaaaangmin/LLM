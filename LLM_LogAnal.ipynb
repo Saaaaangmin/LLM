{
  "nbformat": 4,
  "nbformat_minor": 0,
  "metadata": {
    "colab": {
      "provenance": [],
      "authorship_tag": "ABX9TyM/+fw65ucC4iC0uSB0+ZYr",
      "include_colab_link": true
    },
    "kernelspec": {
      "name": "python3",
      "display_name": "Python 3"
    },
    "language_info": {
      "name": "python"
    }
  },
  "cells": [
    {
      "cell_type": "markdown",
      "metadata": {
        "id": "view-in-github",
        "colab_type": "text"
      },
      "source": [
        "<a href=\"https://colab.research.google.com/github/Saaaaangmin/LLM/blob/main/LLM_LogAnal.ipynb\" target=\"_parent\"><img src=\"https://colab.research.google.com/assets/colab-badge.svg\" alt=\"Open In Colab\"/></a>"
      ]
    },
    {
      "cell_type": "code",
      "execution_count": null,
      "metadata": {
        "id": "cPsJwo9clRAR"
      },
      "outputs": [],
      "source": [
        "import re\n",
        "from fastapi import APIRouter, HTTPException\n",
        "from pydantic import BaseModel\n",
        "from typing import List, Dict, Optional\n",
        "import os\n",
        "from dotenv import load_dotenv\n",
        "\n",
        "# 환경 변수 불러오기\n",
        "load_dotenv()\n",
        "\n",
        "# 라우터 인스턴스 생성\n",
        "router = APIRouter()\n",
        "\n",
        "# 로그 한 줄을 나타내는 정규 표현식\n",
        "log_pattern = re.compile(\n",
        "    r\"^\\[(?P<발생시간>\\d{8} \\d{2}:\\d{2}:\\d{2}(?: \\d{3})?)\\] \"  # 발생 시간\n",
        "    r\"\\[(?P<Port>\\d{6})\\] \"                                # Com Port\n",
        "    r\"\\[(?P<유형>[^\\]]+)\\] \"                                # 유형 또는 함수명\n",
        "    r\"\\[(?P<에러메시지>.*)\\]$\"                               # 메시지\n",
        ")\n",
        "\n",
        "# 에러 메시지 매핑 (에러 키워드와 설명을 연결)\n",
        "error_descriptions = {\n",
        "    \"-1 port open error!\": \"-1 Port open error = 시리얼의 Com Port가 오픈되지 않은 상태로, 케이블 상태 및 COM Port/Baudrate 값이 올바른지 확인이 필요합니다.\",\n",
        "    \"-3 Ack error!\": \"-3 Ack Error = 시리얼 데이터 ACK 수신 오류이므로, 시리얼 연동에 문제가 없는지 확인이 필요합니다.\",\n",
        "    \"-4 lrc, cancel!\": \"-4 lrc, cancel = 시리얼 통신 중 LRC 체크 에러가 발생하여 응답 데이터를 수신하지 못한 상황으로, 시리얼 통신이 정상적으로 되고 있는지 확인이 필요합니다.\",\n",
        "    \"Timeout\": \"Timeout Error = 응답 시간이 초과되었습니다. 연결 상태를 확인하세요.\",\n",
        "}\n",
        "\n",
        "# 추적할 함수명 목록\n",
        "function_names = [\"ReqToCat\", \"ReqStop\", \"SetBmpFile\", \"SetLogDir\", \"GetDecSignData\", \"GetDllVer\"]"
      ]
    },
    {
      "cell_type": "code",
      "source": [
        "# 로그 분석 요청 및 응답 모델\n",
        "class LogAnalysisRequest(BaseModel):\n",
        "    log_date: str  # YYYYMMDD 형식으로 날짜를 받음\n",
        "\n",
        "class LogAnalysisResponse(BaseModel):\n",
        "    발생시간: str\n",
        "    Port: str\n",
        "    함수명: str\n",
        "    에러메시지: str\n",
        "\n",
        "# 로그 라인 파싱 함수\n",
        "def parse_log_line(line: str) -> Optional[Dict[str, str]]:\n",
        "    match = log_pattern.match(line)\n",
        "    return match.groupdict() if match else None\n",
        "\n",
        "# 로그 파일 분석 함수\n",
        "def analyze_log(log_date: str) -> List[Dict[str, str]]:\n",
        "    file_path = f\"C:/NICElog/{log_date}.log\"  # log_date를 사용해 경로 생성\n",
        "    error_logs = []\n",
        "    last_function_name = \"Unknown\"\n",
        "\n",
        "    try:\n",
        "        with open(file_path, 'r', encoding='cp949') as file:\n",
        "            for line in file:\n",
        "                parsed_line = parse_log_line(line.strip())\n",
        "\n",
        "                if parsed_line:\n",
        "                    # function_names 목록에 있는 함수명이 감지될 때 업데이트\n",
        "                    if parsed_line['유형'].strip() in function_names:\n",
        "                        last_function_name = parsed_line['유형'].strip()\n",
        "\n",
        "                    # ERROR 메시지를 찾을 경우\n",
        "                    if \"ERROR\" in parsed_line['유형']:\n",
        "                        error_message = parsed_line['에러메시지']\n",
        "                        detailed_message = error_descriptions.get(error_message, error_message)\n",
        "\n",
        "                        error_logs.append({\n",
        "                            \"발생시간\": parsed_line['발생시간'],\n",
        "                            \"Port\": parsed_line['Port'],\n",
        "                            \"함수명\": last_function_name,\n",
        "                            \"에러메시지\": detailed_message\n",
        "                        })\n",
        "\n",
        "        if not error_logs:\n",
        "            raise HTTPException(status_code=404, detail=\"No ERROR logs found\")\n",
        "\n",
        "        return error_logs\n",
        "    except FileNotFoundError:\n",
        "        raise HTTPException(status_code=404, detail=f\"File not found: {file_path}\")\n",
        "    except PermissionError:\n",
        "        raise HTTPException(status_code=403, detail=f\"Permission denied for file: {file_path}\")\n",
        "    except UnicodeDecodeError:\n",
        "        raise HTTPException(status_code=422, detail=\"Encoding error while reading the file\")\n",
        "    except Exception as e:\n",
        "        raise HTTPException(status_code=500, detail=f\"Unexpected error: {str(e)}\")\n",
        "\n",
        "# JSON 형식의 로그 파일 날짜를 받아 로그 분석 결과를 반환하는 API 엔드포인트\n",
        "@router.post(\"/analyze_log\", response_model=List[LogAnalysisResponse])\n",
        "async def analyze_log_endpoint(request: LogAnalysisRequest):\n",
        "    return analyze_log(request.log_date)"
      ],
      "metadata": {
        "id": "xGUX41eelVbh",
        "collapsed": true
      },
      "execution_count": null,
      "outputs": []
    }
  ]
}